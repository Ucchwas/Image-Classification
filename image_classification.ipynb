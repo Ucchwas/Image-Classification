{
  "nbformat": 4,
  "nbformat_minor": 0,
  "metadata": {
    "colab": {
      "name": "image_classification.ipynb",
      "provenance": [],
      "collapsed_sections": [],
      "toc_visible": true,
      "authorship_tag": "ABX9TyM4QJPnSti5BCWpRUIFQwNj",
      "include_colab_link": true
    },
    "kernelspec": {
      "name": "python3",
      "display_name": "Python 3"
    },
    "language_info": {
      "name": "python"
    }
  },
  "cells": [
    {
      "cell_type": "markdown",
      "metadata": {
        "id": "view-in-github",
        "colab_type": "text"
      },
      "source": [
        "<a href=\"https://colab.research.google.com/github/Ucchwas/Image-Classification/blob/main/image_classification.ipynb\" target=\"_parent\"><img src=\"https://colab.research.google.com/assets/colab-badge.svg\" alt=\"Open In Colab\"/></a>"
      ]
    },
    {
      "cell_type": "code",
      "metadata": {
        "id": "tHk3957VhsRT"
      },
      "source": [
        "import tensorflow as tf\n",
        "from tensorflow.keras import datasets,layers,models\n",
        "import matplotlib.pyplot as plt\n",
        "import numpy as np"
      ],
      "execution_count": null,
      "outputs": []
    },
    {
      "cell_type": "code",
      "metadata": {
        "colab": {
          "base_uri": "https://localhost:8080/"
        },
        "id": "qx9mcQ6vjDFb",
        "outputId": "396d2397-d381-4a59-b622-ca6fb4ad22b0"
      },
      "source": [
        "(x_train,y_train), (x_test,y_test) = datasets.cifar10.load_data()\n",
        "x_train.shape"
      ],
      "execution_count": null,
      "outputs": [
        {
          "output_type": "execute_result",
          "data": {
            "text/plain": [
              "(50000, 32, 32, 3)"
            ]
          },
          "metadata": {
            "tags": []
          },
          "execution_count": 6
        }
      ]
    },
    {
      "cell_type": "code",
      "metadata": {
        "colab": {
          "base_uri": "https://localhost:8080/"
        },
        "id": "cida1F4Inf4t",
        "outputId": "98793d15-6dda-43c4-8ea5-d17f17d3ec51"
      },
      "source": [
        "y_train[:5]"
      ],
      "execution_count": null,
      "outputs": [
        {
          "output_type": "execute_result",
          "data": {
            "text/plain": [
              "array([[6],\n",
              "       [9],\n",
              "       [9],\n",
              "       [4],\n",
              "       [1]], dtype=uint8)"
            ]
          },
          "metadata": {
            "tags": []
          },
          "execution_count": 12
        }
      ]
    },
    {
      "cell_type": "code",
      "metadata": {
        "id": "A9eYvDvmnhvA"
      },
      "source": [
        "y_train = y_train.reshape(-1,)"
      ],
      "execution_count": null,
      "outputs": []
    },
    {
      "cell_type": "code",
      "metadata": {
        "colab": {
          "base_uri": "https://localhost:8080/"
        },
        "id": "l-vX78D7nv_Q",
        "outputId": "0528c415-ae48-49be-b0e2-b569ae8c9b2b"
      },
      "source": [
        "y_train[:5]"
      ],
      "execution_count": null,
      "outputs": [
        {
          "output_type": "execute_result",
          "data": {
            "text/plain": [
              "array([6, 9, 9, 4, 1], dtype=uint8)"
            ]
          },
          "metadata": {
            "tags": []
          },
          "execution_count": 14
        }
      ]
    },
    {
      "cell_type": "code",
      "metadata": {
        "id": "VYaviolhnLjL"
      },
      "source": [
        "classes = [\"airplane\",\"automobile\",\"bird\",\"cat\",\"deer\",\"dog\",\"frog\",\"horse\",\"ship\",\"truck\"]"
      ],
      "execution_count": null,
      "outputs": []
    },
    {
      "cell_type": "code",
      "metadata": {
        "id": "6cvHHtm6jFY7"
      },
      "source": [
        "def plot_sample(X,Y,index):\n",
        "  plt.figure(figsize=(15,2))\n",
        "  plt.imshow(X[index])\n",
        "  plt.xlabel(classes[Y[index]])"
      ],
      "execution_count": null,
      "outputs": []
    },
    {
      "cell_type": "code",
      "metadata": {
        "colab": {
          "base_uri": "https://localhost:8080/",
          "height": 173
        },
        "id": "qtczXQ3fn71K",
        "outputId": "5b9dee19-97d2-42a7-c999-e37fa0c9f1fd"
      },
      "source": [
        "plot_sample(x_train,y_train,0)"
      ],
      "execution_count": null,
      "outputs": [
        {
          "output_type": "display_data",
          "data": {
            "image/png": "[encoded data removed]",
            "text/plain": [
              "<Figure size 1080x144 with 1 Axes>"
            ]
          },
          "metadata": {
            "tags": [],
            "needs_background": "light"
          }
        }
      ]
    },
    {
      "cell_type": "code",
      "metadata": {
        "id": "5rlnjLn9oed7"
      },
      "source": [
        "x_train = x_train / 255\n",
        "x_test = x_test / 255"
      ],
      "execution_count": null,
      "outputs": []
    },
    {
      "cell_type": "code",
      "metadata": {
        "colab": {
          "base_uri": "https://localhost:8080/"
        },
        "id": "dQm24-I-p3xD",
        "outputId": "0e0b1970-2622-4f2e-d7d3-18a0902ad0d4"
      },
      "source": [
        "ann = models.Sequential([\n",
        "    layers.Flatten(input_shape=(32,32,3)),\n",
        "    layers.Dense(3000,activation='relu'),\n",
        "    layers.Dense(1000,activation='relu'),\n",
        "    layers.Dense(10,activation='sigmoid')\n",
        "])\n",
        "\n",
        "ann.compile(optimizer='SGD',\n",
        "            loss='sparse_categorical_crossentropy',\n",
        "            metrics='accuracy')\n",
        "ann.fit(x_train,y_train,epochs=5)"
      ],
      "execution_count": null,
      "outputs": [
        {
          "output_type": "stream",
          "text": [
            "Epoch 1/5\n",
            "1563/1563 [==============================] - 64s 41ms/step - loss: 1.8156 - accuracy: 0.3524\n",
            "Epoch 2/5\n",
            "1563/1563 [==============================] - 64s 41ms/step - loss: 1.6232 - accuracy: 0.4270\n",
            "Epoch 3/5\n",
            "1563/1563 [==============================] - 64s 41ms/step - loss: 1.5446 - accuracy: 0.4539\n",
            "Epoch 4/5\n",
            "1563/1563 [==============================] - 64s 41ms/step - loss: 1.4818 - accuracy: 0.4788\n",
            "Epoch 5/5\n",
            "1563/1563 [==============================] - 64s 41ms/step - loss: 1.4301 - accuracy: 0.4942\n"
          ],
          "name": "stdout"
        },
        {
          "output_type": "execute_result",
          "data": {
            "text/plain": [
              "<tensorflow.python.keras.callbacks.History at 0x7f7ba8b20d10>"
            ]
          },
          "metadata": {
            "tags": []
          },
          "execution_count": 22
        }
      ]
    },
    {
      "cell_type": "code",
      "metadata": {
        "colab": {
          "base_uri": "https://localhost:8080/"
        },
        "id": "Zd-9e4zd2mXX",
        "outputId": "1726c715-4049-4cd5-ee97-477f10a06c9d"
      },
      "source": [
        "ann.evaluate(x_test,y_test)"
      ],
      "execution_count": null,
      "outputs": [
        {
          "output_type": "stream",
          "text": [
            "313/313 [==============================] - 6s 17ms/step - loss: 1.4629 - accuracy: 0.4767\n"
          ],
          "name": "stdout"
        },
        {
          "output_type": "execute_result",
          "data": {
            "text/plain": [
              "[1.4629215002059937, 0.4767000079154968]"
            ]
          },
          "metadata": {
            "tags": []
          },
          "execution_count": 24
        }
      ]
    },
    {
      "cell_type": "code",
      "metadata": {
        "colab": {
          "base_uri": "https://localhost:8080/"
        },
        "id": "k4sFqYv5y1Ve",
        "outputId": "dc697e41-a562-4385-c6a7-531e34532231"
      },
      "source": [
        "from sklearn.metrics import classification_report,confusion_matrix\n",
        "import numpy as np\n",
        "y_pred = ann.predict(x_test)\n",
        "y_pred_classes = [np.argmax(element) for element in y_pred]\n",
        "\n",
        "print('Classification report : \\n', classification_report(y_test,y_pred_classes))"
      ],
      "execution_count": null,
      "outputs": [
        {
          "output_type": "stream",
          "text": [
            "Classification report : \n",
            "               precision    recall  f1-score   support\n",
            "\n",
            "           0       0.54      0.58      0.56      1000\n",
            "           1       0.68      0.47      0.56      1000\n",
            "           2       0.34      0.41      0.37      1000\n",
            "           3       0.33      0.41      0.36      1000\n",
            "           4       0.46      0.30      0.36      1000\n",
            "           5       0.49      0.21      0.30      1000\n",
            "           6       0.40      0.75      0.52      1000\n",
            "           7       0.61      0.49      0.54      1000\n",
            "           8       0.74      0.50      0.59      1000\n",
            "           9       0.48      0.65      0.55      1000\n",
            "\n",
            "    accuracy                           0.48     10000\n",
            "   macro avg       0.51      0.48      0.47     10000\n",
            "weighted avg       0.51      0.48      0.47     10000\n",
            "\n"
          ],
          "name": "stdout"
        }
      ]
    },
    {
      "cell_type": "code",
      "metadata": {
        "id": "8u7DqLFV5z9y"
      },
      "source": [
        "cnn = models.Sequential([\n",
        "    layers.Conv2D(filters=32, kernel_size=(3,3), activation='relu', input_shape=(32,32,3)),\n",
        "    layers.MaxPooling2D(2,2),    \n",
        "\n",
        "    layers.Conv2D(filters=32, kernel_size=(3,3), activation='relu', input_shape=(32,32,3)),\n",
        "    layers.MaxPooling2D(2,2),               \n",
        "    \n",
        "    layers.Flatten(),\n",
        "    layers.Dense(1000,activation='relu'),\n",
        "    layers.Dense(10,activation='softmax')\n",
        "])\n"
      ],
      "execution_count": null,
      "outputs": []
    },
    {
      "cell_type": "code",
      "metadata": {
        "id": "h0kjnj08Ab8Z"
      },
      "source": [
        "cnn.compile(optimizer='adam',\n",
        "            loss='sparse_categorical_crossentropy',\n",
        "            metrics='accuracy')"
      ],
      "execution_count": null,
      "outputs": []
    },
    {
      "cell_type": "code",
      "metadata": {
        "colab": {
          "base_uri": "https://localhost:8080/"
        },
        "id": "PyDWk01zAnSm",
        "outputId": "cd664ea3-3366-4bf0-ad2b-1c4b8da161a0"
      },
      "source": [
        "cnn.fit(x_train,y_train,epochs=10)"
      ],
      "execution_count": null,
      "outputs": [
        {
          "output_type": "stream",
          "text": [
            "Epoch 1/10\n",
            "1563/1563 [==============================] - 51s 32ms/step - loss: 1.3461 - accuracy: 0.5190\n",
            "Epoch 2/10\n",
            "1563/1563 [==============================] - 51s 33ms/step - loss: 0.9955 - accuracy: 0.6504\n",
            "Epoch 3/10\n",
            "1563/1563 [==============================] - 58s 37ms/step - loss: 0.8092 - accuracy: 0.7169\n",
            "Epoch 4/10\n",
            "1563/1563 [==============================] - 53s 34ms/step - loss: 0.6665 - accuracy: 0.7678\n",
            "Epoch 5/10\n",
            "1563/1563 [==============================] - 53s 34ms/step - loss: 0.5251 - accuracy: 0.8177\n",
            "Epoch 6/10\n",
            "1563/1563 [==============================] - 52s 33ms/step - loss: 0.3956 - accuracy: 0.8631\n",
            "Epoch 7/10\n",
            "1563/1563 [==============================] - 51s 32ms/step - loss: 0.2746 - accuracy: 0.9049\n",
            "Epoch 8/10\n",
            "1563/1563 [==============================] - 51s 33ms/step - loss: 0.1921 - accuracy: 0.9338\n",
            "Epoch 9/10\n",
            "1563/1563 [==============================] - 54s 35ms/step - loss: 0.1354 - accuracy: 0.9545\n",
            "Epoch 10/10\n",
            "1563/1563 [==============================] - 51s 33ms/step - loss: 0.1217 - accuracy: 0.9575\n"
          ],
          "name": "stdout"
        },
        {
          "output_type": "execute_result",
          "data": {
            "text/plain": [
              "<tensorflow.python.keras.callbacks.History at 0x7f7b9d0d2990>"
            ]
          },
          "metadata": {
            "tags": []
          },
          "execution_count": 29
        }
      ]
    },
    {
      "cell_type": "code",
      "metadata": {
        "colab": {
          "base_uri": "https://localhost:8080/"
        },
        "id": "oS4tZ4anAwyA",
        "outputId": "bea122fd-861f-4c8e-dd60-81c875d9bf96"
      },
      "source": [
        "cnn.evaluate(x_test,y_test)"
      ],
      "execution_count": null,
      "outputs": [
        {
          "output_type": "stream",
          "text": [
            "313/313 [==============================] - 3s 10ms/step - loss: 1.5233 - accuracy: 0.6991\n"
          ],
          "name": "stdout"
        },
        {
          "output_type": "execute_result",
          "data": {
            "text/plain": [
              "[1.523302674293518, 0.6991000175476074]"
            ]
          },
          "metadata": {
            "tags": []
          },
          "execution_count": 30
        }
      ]
    },
    {
      "cell_type": "code",
      "metadata": {
        "colab": {
          "base_uri": "https://localhost:8080/",
          "height": 173
        },
        "id": "hPkKDMGOD4pU",
        "outputId": "07877178-d979-46c9-8a7a-7040b3f2f6e5"
      },
      "source": [
        "y_test = y_test.reshape(-1,)\n",
        "plot_sample(x_test,y_test,1)"
      ],
      "execution_count": null,
      "outputs": [
        {
          "output_type": "display_data",
          "data": {
            "image/png": "[encoded data removed]",
            "text/plain": [
              "<Figure size 1080x144 with 1 Axes>"
            ]
          },
          "metadata": {
            "tags": [],
            "needs_background": "light"
          }
        }
      ]
    },
    {
      "cell_type": "code",
      "metadata": {
        "colab": {
          "base_uri": "https://localhost:8080/"
        },
        "id": "uaGLDD5FEIfT",
        "outputId": "7ee0075b-aaa4-40b0-bf26-f1989afb9b30"
      },
      "source": [
        "y_pred = cnn.predict(x_test)\n",
        "y_pred[:5]"
      ],
      "execution_count": null,
      "outputs": [
        {
          "output_type": "execute_result",
          "data": {
            "text/plain": [
              "array([[3.3212019e-10, 2.4553461e-04, 7.7264362e-05, 9.9713469e-01,\n",
              "        6.6309399e-06, 1.4158996e-03, 1.1090712e-03, 1.0679512e-05,\n",
              "        1.9183616e-07, 1.1111841e-11],\n",
              "       [6.8999879e-04, 7.8494847e-02, 2.5699258e-12, 2.0995766e-13,\n",
              "        8.9197579e-17, 3.8749250e-14, 1.3305017e-15, 3.0103379e-18,\n",
              "        9.2081386e-01, 1.3401901e-06],\n",
              "       [4.3506672e-05, 4.4590766e-03, 6.2400563e-06, 3.8632785e-04,\n",
              "        1.5218620e-04, 1.2469232e-07, 5.2551496e-08, 6.6304933e-06,\n",
              "        9.9444652e-01, 4.9929071e-04],\n",
              "       [9.5272321e-01, 1.0209317e-05, 1.7445924e-02, 3.9146540e-05,\n",
              "        2.9748462e-02, 1.9413531e-09, 9.0446373e-11, 2.4728868e-08,\n",
              "        3.2921336e-05, 1.4603530e-07],\n",
              "       [1.4558717e-12, 1.2739777e-06, 5.0797702e-05, 1.8624724e-03,\n",
              "        9.9505371e-01, 3.5750872e-07, 3.0312999e-03, 5.4831586e-12,\n",
              "        6.4513699e-08, 4.2923011e-13]], dtype=float32)"
            ]
          },
          "metadata": {
            "tags": []
          },
          "execution_count": 32
        }
      ]
    },
    {
      "cell_type": "code",
      "metadata": {
        "colab": {
          "base_uri": "https://localhost:8080/"
        },
        "id": "3dqJr8KvEV_D",
        "outputId": "766370e4-ed05-4505-a778-7bbc4d5e4dee"
      },
      "source": [
        "y_classes = [np.argmax(element) for element in y_pred]\n",
        "y_classes[:10]"
      ],
      "execution_count": null,
      "outputs": [
        {
          "output_type": "execute_result",
          "data": {
            "text/plain": [
              "[3, 8, 8, 0, 4, 6, 1, 2, 3, 1]"
            ]
          },
          "metadata": {
            "tags": []
          },
          "execution_count": 34
        }
      ]
    },
    {
      "cell_type": "code",
      "metadata": {
        "colab": {
          "base_uri": "https://localhost:8080/"
        },
        "id": "7N4RS_s-Ez62",
        "outputId": "35397a41-a816-448b-e875-0e055ff35197"
      },
      "source": [
        "y_test[:10]"
      ],
      "execution_count": null,
      "outputs": [
        {
          "output_type": "execute_result",
          "data": {
            "text/plain": [
              "array([3, 8, 8, 0, 6, 6, 1, 6, 3, 1], dtype=uint8)"
            ]
          },
          "metadata": {
            "tags": []
          },
          "execution_count": 35
        }
      ]
    },
    {
      "cell_type": "code",
      "metadata": {
        "colab": {
          "base_uri": "https://localhost:8080/",
          "height": 173
        },
        "id": "ExgQcsycFRWR",
        "outputId": "e5382c22-2c54-4028-83d2-a866d2065ef9"
      },
      "source": [
        "plot_sample(x_test,y_test,4)"
      ],
      "execution_count": null,
      "outputs": [
        {
          "output_type": "display_data",
          "data": {
            "image/png": "[encoded data removed]",
            "text/plain": [
              "<Figure size 1080x144 with 1 Axes>"
            ]
          },
          "metadata": {
            "tags": [],
            "needs_background": "light"
          }
        }
      ]
    },
    {
      "cell_type": "code",
      "metadata": {
        "colab": {
          "base_uri": "https://localhost:8080/",
          "height": 35
        },
        "id": "w3cTno3PFgsv",
        "outputId": "adc19942-cb95-4cb1-aa3b-42ad89ef6688"
      },
      "source": [
        "classes[y_classes[4]]"
      ],
      "execution_count": null,
      "outputs": [
        {
          "output_type": "execute_result",
          "data": {
            "application/vnd.google.colaboratory.intrinsic+json": {
              "type": "string"
            },
            "text/plain": [
              "'deer'"
            ]
          },
          "metadata": {
            "tags": []
          },
          "execution_count": 41
        }
      ]
    },
    {
      "cell_type": "code",
      "metadata": {
        "colab": {
          "base_uri": "https://localhost:8080/"
        },
        "id": "pGZH0NK4Frdr",
        "outputId": "7891b1c5-e213-4475-97da-1cde126a5cb9"
      },
      "source": [
        "print('Classification report : \\n', classification_report(y_test,y_classes))"
      ],
      "execution_count": null,
      "outputs": [
        {
          "output_type": "stream",
          "text": [
            "Classification report : \n",
            "               precision    recall  f1-score   support\n",
            "\n",
            "           0       0.78      0.72      0.75      1000\n",
            "           1       0.78      0.87      0.82      1000\n",
            "           2       0.58      0.62      0.60      1000\n",
            "           3       0.48      0.55      0.52      1000\n",
            "           4       0.68      0.63      0.66      1000\n",
            "           5       0.58      0.60      0.59      1000\n",
            "           6       0.85      0.74      0.79      1000\n",
            "           7       0.72      0.75      0.73      1000\n",
            "           8       0.81      0.78      0.80      1000\n",
            "           9       0.81      0.73      0.77      1000\n",
            "\n",
            "    accuracy                           0.70     10000\n",
            "   macro avg       0.71      0.70      0.70     10000\n",
            "weighted avg       0.71      0.70      0.70     10000\n",
            "\n"
          ],
          "name": "stdout"
        }
      ]
    }
  ]
}